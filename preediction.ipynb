{
  "nbformat": 4,
  "nbformat_minor": 0,
  "metadata": {
    "colab": {
      "provenance": [],
      "authorship_tag": "ABX9TyP2UXRV+TNGJzbQ5WzHMvcM",
      "include_colab_link": true
    },
    "kernelspec": {
      "name": "python3",
      "display_name": "Python 3"
    },
    "language_info": {
      "name": "python"
    }
  },
  "cells": [
    {
      "cell_type": "markdown",
      "metadata": {
        "id": "view-in-github",
        "colab_type": "text"
      },
      "source": [
        "<a href=\"https://colab.research.google.com/github/i-ninte/Data-Science-Projects/blob/master/preediction.ipynb\" target=\"_parent\"><img src=\"https://colab.research.google.com/assets/colab-badge.svg\" alt=\"Open In Colab\"/></a>"
      ]
    },
    {
      "cell_type": "code",
      "execution_count": 1,
      "metadata": {
        "colab": {
          "base_uri": "https://localhost:8080/"
        },
        "id": "gW0R6-I2fOtn",
        "outputId": "acaaa2fa-cb67-40de-f1c2-d15f3d76cc0e"
      },
      "outputs": [
        {
          "output_type": "stream",
          "name": "stdout",
          "text": [
            "Accuracy: 0.7467532467532467\n",
            "              precision    recall  f1-score   support\n",
            "\n",
            "           0       0.81      0.79      0.80        99\n",
            "           1       0.64      0.67      0.65        55\n",
            "\n",
            "    accuracy                           0.75       154\n",
            "   macro avg       0.73      0.73      0.73       154\n",
            "weighted avg       0.75      0.75      0.75       154\n",
            "\n"
          ]
        },
        {
          "output_type": "stream",
          "name": "stderr",
          "text": [
            "/usr/local/lib/python3.10/dist-packages/sklearn/linear_model/_logistic.py:458: ConvergenceWarning: lbfgs failed to converge (status=1):\n",
            "STOP: TOTAL NO. of ITERATIONS REACHED LIMIT.\n",
            "\n",
            "Increase the number of iterations (max_iter) or scale the data as shown in:\n",
            "    https://scikit-learn.org/stable/modules/preprocessing.html\n",
            "Please also refer to the documentation for alternative solver options:\n",
            "    https://scikit-learn.org/stable/modules/linear_model.html#logistic-regression\n",
            "  n_iter_i = _check_optimize_result(\n"
          ]
        }
      ],
      "source": [
        "import pandas as pd\n",
        "from sklearn.model_selection import train_test_split\n",
        "from sklearn.linear_model import LogisticRegression\n",
        "from sklearn.metrics import accuracy_score, classification_report\n",
        "\n",
        "# Step 1: Data Preparation\n",
        "data = pd.read_csv(\"diabetes.csv\")\n",
        "X = data.drop(\"Outcome\", axis=1)\n",
        "y = data[\"Outcome\"]\n",
        "\n",
        "# Step 4: Data Splitting\n",
        "X_train, X_test, y_train, y_test = train_test_split(X, y, test_size=0.2, random_state=42)\n",
        "\n",
        "# Step 5: Model Selection\n",
        "model = LogisticRegression()  # You can choose another classifier here\n",
        "\n",
        "# Step 6: Model Training\n",
        "model.fit(X_train, y_train)\n",
        "\n",
        "# Step 7: Model Evaluation\n",
        "y_pred = model.predict(X_test)\n",
        "accuracy = accuracy_score(y_test, y_pred)\n",
        "report = classification_report(y_test, y_pred)\n",
        "\n",
        "print(f\"Accuracy: {accuracy}\")\n",
        "print(report)\n"
      ]
    },
    {
      "cell_type": "code",
      "source": [
        "# Import necessary libraries\n",
        "import pandas as pd\n",
        "\n",
        "# Creating new dataframe for patient\n",
        "\n",
        "new_patient_data = pd.DataFrame({\n",
        "    'Pregnancies': [5],\n",
        "    'Glucose': [148],\n",
        "    'BloodPressure': [72],\n",
        "    'SkinThickness': [35],\n",
        "    'Insulin': [0],\n",
        "    'BMI': [33.6],\n",
        "    'DiabetesPedigreeFunction': [0.627],\n",
        "    'Age': [50]\n",
        "})\n",
        "\n",
        "\n",
        "# In this case, we're predicting the probability of having diabetes (class 1)\n",
        "predicted_probabilities = model.predict_proba(new_patient_data)\n",
        "# The second column (index 1) contains the probability of class 1\n",
        "probability_of_diabetes = predicted_probabilities[0][1]\n",
        "\n",
        "# Using a threshold to make a binary prediction (0 or 1)\n",
        "threshold = 0.5\n",
        "predicted_class = 1 if probability_of_diabetes > threshold else 0\n",
        "\n",
        "if predicted_class == 1:\n",
        "    print(\"The patient is predicted to have diabetes.\")\n",
        "else:\n",
        "    print(\"The patient is predicted not to have diabetes.\")\n",
        "\n",
        "# Printing the probability score\n",
        "print(f\"Probability of having diabetes: {probability_of_diabetes:.2f}\")\n"
      ],
      "metadata": {
        "colab": {
          "base_uri": "https://localhost:8080/"
        },
        "id": "dU-PypShhR1t",
        "outputId": "44b650ab-a9a4-4b29-db6b-8d2556327d09"
      },
      "execution_count": 4,
      "outputs": [
        {
          "output_type": "stream",
          "name": "stdout",
          "text": [
            "The patient is predicted to have diabetes.\n",
            "Probability of having diabetes: 0.76\n"
          ]
        }
      ]
    }
  ]
}
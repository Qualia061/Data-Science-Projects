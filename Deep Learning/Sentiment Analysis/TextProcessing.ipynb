{
 "cells": [
  {
   "cell_type": "markdown",
   "metadata": {},
   "source": [
    "# Deep Learning for Text and Sequences"
   ]
  },
  {
   "cell_type": "markdown",
   "metadata": {},
   "source": [
    "## Sentiment Analysis\n",
    "\n",
    "Sentiment analysis is the task of determinining whether a text (such as a movie review or restaurant review) is positive or negative. For example, let's consider the reviews posted at IMDB.\n",
    "\n",
    "![imdb.png](imdb.png)\n",
    "\n",
    "Here is one review from that website:"
   ]
  },
  {
   "cell_type": "code",
   "execution_count": 77,
   "metadata": {},
   "outputs": [
    {
     "data": {
      "text/plain": [
       "'Tis is a farly typical Tom and Jerry short-a situation is designed, conflict arises and mayhem ensues. The characters behave in appropriate ways, the natural tensions between various characters leads to general chaos. The best (and funniest) part is when the peace treaty is in force and respected-all sorts of strange wonders appear before your eyes. A word of warning-it is most unwise to allow Tom to help you perform your morning cleansing routine! Highly recommended.'"
      ]
     },
     "execution_count": 77,
     "metadata": {},
     "output_type": "execute_result"
    }
   ],
   "source": [
    "texts[23525]"
   ]
  },
  {
   "cell_type": "code",
   "execution_count": 78,
   "metadata": {},
   "outputs": [
    {
     "data": {
      "text/plain": [
       "1"
      ]
     },
     "execution_count": 78,
     "metadata": {},
     "output_type": "execute_result"
    }
   ],
   "source": [
    "labels[23525] #0=negative, 1=positive"
   ]
  },
  {
   "cell_type": "markdown",
   "metadata": {},
   "source": [
    "## We want to train a network so as to predict whether it is positive or negative. "
   ]
  },
  {
   "cell_type": "markdown",
   "metadata": {},
   "source": [
    "### Training an Embedding from Scratch on IMDB"
   ]
  },
  {
   "cell_type": "code",
   "execution_count": 6,
   "metadata": {
    "collapsed": true
   },
   "outputs": [],
   "source": [
    "from keras.layers import Embedding\n",
    "\n",
    "from keras.datasets import imdb\n",
    "from keras import preprocessing\n",
    "max_features = 10000 #just consider the top 10000 most common words\n",
    "maxlen = 100 #cut off the reviews to the first maxlen words. Increasing to 1000 you get validation accuracy of ~90%\n",
    "\n",
    "(x_train, y_train), (x_test, y_test) = imdb.load_data( num_words=max_features)\n",
    "#add zeros or cut reviews so that they have the same size\n",
    "x_train = preprocessing.sequence.pad_sequences(x_train, maxlen=maxlen) \n",
    "x_test = preprocessing.sequence.pad_sequences(x_test, maxlen=maxlen)\n",
    "\n"
   ]
  },
  {
   "cell_type": "code",
   "execution_count": 7,
   "metadata": {},
   "outputs": [
    {
     "name": "stdout",
     "output_type": "stream",
     "text": [
      "_________________________________________________________________\n",
      "Layer (type)                 Output Shape              Param #   \n",
      "=================================================================\n",
      "embedding_3 (Embedding)      (None, 100, 100)          1000000   \n",
      "_________________________________________________________________\n",
      "flatten_3 (Flatten)          (None, 10000)             0         \n",
      "_________________________________________________________________\n",
      "dense_3 (Dense)              (None, 1)                 10001     \n",
      "=================================================================\n",
      "Total params: 1,010,001\n",
      "Trainable params: 1,010,001\n",
      "Non-trainable params: 0\n",
      "_________________________________________________________________\n"
     ]
    }
   ],
   "source": [
    "from keras.models import Sequential \n",
    "from keras.layers import Flatten, Dense\n",
    "model = Sequential()\n",
    "model.add(Embedding(10000, 100, input_length=maxlen)) #learn an 8-dimensional embedding\n",
    "model.add(Flatten())\n",
    "model.add(Dense(1, activation='sigmoid'))\n",
    "model.compile(optimizer='rmsprop', loss='binary_crossentropy', metrics=['acc'])\n",
    "model.summary()\n"
   ]
  },
  {
   "cell_type": "code",
   "execution_count": null,
   "metadata": {
    "collapsed": true
   },
   "outputs": [],
   "source": [
    "history = model.fit(x_train, y_train, epochs=10,\n",
    "batch_size=32, validation_split=0.2)"
   ]
  },
  {
   "cell_type": "markdown",
   "metadata": {},
   "source": [
    "Validation Accuracy > 83%, with the first 100 words. Not bad."
   ]
  },
  {
   "cell_type": "markdown",
   "metadata": {},
   "source": [
    "### Using a pretrained Embedding"
   ]
  },
  {
   "cell_type": "markdown",
   "metadata": {},
   "source": [
    "There are several embeddings we could use... Download the raw IMDB data from http://mng.bz/0tIo. "
   ]
  },
  {
   "cell_type": "code",
   "execution_count": 91,
   "metadata": {},
   "outputs": [
    {
     "name": "stdout",
     "output_type": "stream",
     "text": [
      "Found 88582 unique tokens.\n",
      "Shape of data tensor: (25000, 100)\n",
      "Shape of label tensor: (25000,)\n"
     ]
    }
   ],
   "source": [
    "#some preprocessing of the data\n",
    "\n",
    "import os\n",
    "imdb_dir = 'aclImdb'\n",
    "train_dir = os.path.join(imdb_dir, 'train')\n",
    "labels = []\n",
    "texts = []\n",
    "for label_type in ['neg', 'pos']:\n",
    "    dir_name = os.path.join(train_dir, label_type)\n",
    "    for fname in os.listdir(dir_name):\n",
    "        if fname[-4:] == '.txt':\n",
    "            f = open(os.path.join(dir_name, fname))\n",
    "            texts.append(f.read())\n",
    "            f.close()\n",
    "            if label_type == 'neg':\n",
    "                labels.append(0)\n",
    "            else:\n",
    "                labels.append(1)\n",
    "                \n",
    "from keras.preprocessing.text import Tokenizer\n",
    "from keras.preprocessing.sequence import pad_sequences\n",
    "import numpy as np\n",
    "maxlen = 100 \n",
    "training_samples = 20000 \n",
    "validation_samples = 5000\n",
    "max_words = 10000\n",
    "tokenizer = Tokenizer(num_words=max_words)\n",
    "tokenizer.fit_on_texts(texts)\n",
    "sequences = tokenizer.texts_to_sequences(texts)\n",
    "\n",
    "word_index = tokenizer.word_index\n",
    "print('Found %s unique tokens.' % len(word_index))\n",
    "data = pad_sequences(sequences, maxlen=maxlen)\n",
    "labels = np.asarray(labels)\n",
    "print('Shape of data tensor:', data.shape)\n",
    "print('Shape of label tensor:', labels.shape)\n",
    "indices = np.arange(data.shape[0])\n",
    "np.random.shuffle(indices)\n",
    "data = data[indices]\n",
    "labels = labels[indices]\n",
    "\n",
    "x_train = data[:training_samples]\n",
    "y_train = labels[:training_samples]\n",
    "x_val = data[training_samples: training_samples + validation_samples] \n",
    "y_val = labels[training_samples: training_samples + validation_samples]"
   ]
  },
  {
   "cell_type": "code",
   "execution_count": 92,
   "metadata": {},
   "outputs": [
    {
     "name": "stdout",
     "output_type": "stream",
     "text": [
      "Found 400000 word vectors.\n"
     ]
    }
   ],
   "source": [
    "glove_dir = 'glove.6B'\n",
    "embeddings_index = {}\n",
    "f = open(os.path.join(glove_dir, 'glove.6B.100d.txt'))\n",
    "for line in f:\n",
    "    values = line.split()\n",
    "    word = values[0]\n",
    "    coefs = np.asarray(values[1:], dtype='float32')\n",
    "    embeddings_index[word] = coefs\n",
    "f.close()\n",
    "print('Found %s word vectors.' % len(embeddings_index))"
   ]
  },
  {
   "cell_type": "code",
   "execution_count": 93,
   "metadata": {
    "collapsed": true
   },
   "outputs": [],
   "source": [
    "embedding_dim = 100\n",
    "embedding_matrix = np.zeros((max_words, embedding_dim))\n",
    "for word, i in word_index.items():\n",
    "    if i < max_words:\n",
    "        embedding_vector = embeddings_index.get(word)\n",
    "        if embedding_vector is not None:\n",
    "            embedding_matrix[i] = embedding_vector"
   ]
  },
  {
   "cell_type": "code",
   "execution_count": 94,
   "metadata": {},
   "outputs": [
    {
     "name": "stdout",
     "output_type": "stream",
     "text": [
      "_________________________________________________________________\n",
      "Layer (type)                 Output Shape              Param #   \n",
      "=================================================================\n",
      "embedding_18 (Embedding)     (None, 100, 100)          1000000   \n",
      "_________________________________________________________________\n",
      "flatten_14 (Flatten)         (None, 10000)             0         \n",
      "_________________________________________________________________\n",
      "dense_16 (Dense)             (None, 32)                320032    \n",
      "_________________________________________________________________\n",
      "dense_17 (Dense)             (None, 1)                 33        \n",
      "=================================================================\n",
      "Total params: 1,320,065\n",
      "Trainable params: 1,320,065\n",
      "Non-trainable params: 0\n",
      "_________________________________________________________________\n"
     ]
    }
   ],
   "source": [
    "#put the embedding in the architecture\n",
    "\n",
    "from keras.models import Sequential\n",
    "from keras.layers import Embedding, Flatten, Dense\n",
    "\n",
    "model = Sequential()\n",
    "model.add(Embedding(max_words, embedding_dim, input_length=maxlen))\n",
    "model.add(Flatten())\n",
    "model.add(Dense(32, activation='relu'))\n",
    "model.add(Dense(1, activation='sigmoid'))\n",
    "model.summary()"
   ]
  },
  {
   "cell_type": "code",
   "execution_count": 95,
   "metadata": {},
   "outputs": [
    {
     "name": "stdout",
     "output_type": "stream",
     "text": [
      "_________________________________________________________________\n",
      "Layer (type)                 Output Shape              Param #   \n",
      "=================================================================\n",
      "embedding_18 (Embedding)     (None, 100, 100)          1000000   \n",
      "_________________________________________________________________\n",
      "flatten_14 (Flatten)         (None, 10000)             0         \n",
      "_________________________________________________________________\n",
      "dense_16 (Dense)             (None, 32)                320032    \n",
      "_________________________________________________________________\n",
      "dense_17 (Dense)             (None, 1)                 33        \n",
      "=================================================================\n",
      "Total params: 1,320,065\n",
      "Trainable params: 320,065\n",
      "Non-trainable params: 1,000,000\n",
      "_________________________________________________________________\n"
     ]
    }
   ],
   "source": [
    "#load the pretrained embedding in the embedding layer and freeze the parameters\n",
    "model.layers[0].set_weights([embedding_matrix])\n",
    "model.layers[0].trainable = False\n",
    "model.summary()"
   ]
  },
  {
   "cell_type": "code",
   "execution_count": 96,
   "metadata": {},
   "outputs": [
    {
     "name": "stdout",
     "output_type": "stream",
     "text": [
      "Train on 20000 samples, validate on 4000 samples\n",
      "Epoch 1/10\n",
      "20000/20000 [==============================] - 8s 390us/step - loss: 0.6862 - acc: 0.5460 - val_loss: 0.5991 - val_acc: 0.6793\n",
      "Epoch 2/10\n",
      "20000/20000 [==============================] - 7s 366us/step - loss: 0.5673 - acc: 0.7063 - val_loss: 0.5577 - val_acc: 0.7192\n",
      "Epoch 3/10\n",
      "20000/20000 [==============================] - 7s 354us/step - loss: 0.4907 - acc: 0.7650 - val_loss: 0.6030 - val_acc: 0.6990\n",
      "Epoch 4/10\n",
      "20000/20000 [==============================] - 7s 362us/step - loss: 0.4417 - acc: 0.7926 - val_loss: 0.5734 - val_acc: 0.7190\n",
      "Epoch 5/10\n",
      "20000/20000 [==============================] - 7s 367us/step - loss: 0.4093 - acc: 0.8138 - val_loss: 0.7038 - val_acc: 0.6933\n",
      "Epoch 6/10\n",
      "20000/20000 [==============================] - 8s 377us/step - loss: 0.3754 - acc: 0.8273 - val_loss: 0.5994 - val_acc: 0.7160\n",
      "Epoch 7/10\n",
      "20000/20000 [==============================] - 8s 379us/step - loss: 0.3321 - acc: 0.8514 - val_loss: 0.7523 - val_acc: 0.6900\n",
      "Epoch 8/10\n",
      "20000/20000 [==============================] - 8s 381us/step - loss: 0.2976 - acc: 0.8673 - val_loss: 0.7149 - val_acc: 0.7110\n",
      "Epoch 9/10\n",
      "20000/20000 [==============================] - 8s 384us/step - loss: 0.2538 - acc: 0.8860 - val_loss: 0.7478 - val_acc: 0.7110\n",
      "Epoch 10/10\n",
      "20000/20000 [==============================] - 8s 398us/step - loss: 0.2196 - acc: 0.9032 - val_loss: 0.7969 - val_acc: 0.7120\n"
     ]
    }
   ],
   "source": [
    "model.compile(optimizer='rmsprop',\n",
    "              loss='binary_crossentropy',\n",
    "              metrics=['acc'])\n",
    "history = model.fit(x_train, y_train,\n",
    "                    epochs=10,\n",
    "                    batch_size=32,\n",
    "                    validation_data=(x_val, y_val))\n",
    "model.save_weights('pre_trained_glove_model.h5')"
   ]
  },
  {
   "cell_type": "markdown",
   "metadata": {},
   "source": [
    "Validation Accuracy: 72%. Somehow it performs worse than when trainning our model from scratch. Possible reason: the  embedding has been trained for general purpose tasks."
   ]
  },
  {
   "cell_type": "code",
   "execution_count": 97,
   "metadata": {},
   "outputs": [
    {
     "data": {
      "image/png": "[encoded data removed]",
      "text/plain": [
       "<matplotlib.figure.Figure at 0x18363b5ba8>"
      ]
     },
     "metadata": {},
     "output_type": "display_data"
    },
    {
     "data": {
      "image/png": "[encoded data removed]",
      "text/plain": [
       "<matplotlib.figure.Figure at 0x18365b66d8>"
      ]
     },
     "metadata": {},
     "output_type": "display_data"
    }
   ],
   "source": [
    "import matplotlib.pyplot as plt\n",
    "acc = history.history['acc']\n",
    "val_acc = history.history['val_acc']\n",
    "loss = history.history['loss']\n",
    "val_loss = history.history['val_loss']\n",
    "epochs = range(1, len(acc) + 1)\n",
    "plt.plot(epochs, acc, 'bo', label='Training acc')\n",
    "plt.plot(epochs, val_acc, 'b', label='Validation acc')\n",
    "plt.title('Training and validation accuracy')\n",
    "plt.legend()\n",
    "plt.figure()\n",
    "plt.plot(epochs, loss, 'bo', label='Training loss')\n",
    "plt.plot(epochs, val_loss, 'b', label='Validation loss')\n",
    "plt.title('Training and validation loss')\n",
    "plt.legend()\n",
    "plt.show()"
   ]
  },
  {
   "cell_type": "markdown",
   "metadata": {},
   "source": [
    "## Recurrent Neural Networks for Sentiment Analysis"
   ]
  },
  {
   "cell_type": "markdown",
   "metadata": {},
   "source": [
    "### SImple RNN\n"
   ]
  },
  {
   "cell_type": "code",
   "execution_count": 108,
   "metadata": {},
   "outputs": [
    {
     "name": "stdout",
     "output_type": "stream",
     "text": [
      "Loading data...\n",
      "25000 train sequences\n",
      "25000 test sequences\n",
      "Pad sequences (samples x time)\n",
      "input_train shape: (25000, 100)\n",
      "input_test shape: (25000, 100)\n"
     ]
    }
   ],
   "source": [
    "from keras.datasets import imdb\n",
    "from keras.preprocessing import sequence\n",
    "\n",
    "max_features = 10000\n",
    "maxlen = 100\n",
    "batch_size = 32\n",
    "print('Loading data...')\n",
    "(input_train, y_train), (input_test, y_test) = imdb.load_data(\n",
    "     num_words=max_features)\n",
    "print(len(input_train), 'train sequences')\n",
    "print(len(input_test), 'test sequences')\n",
    "print('Pad sequences (samples x time)')\n",
    "input_train = sequence.pad_sequences(input_train, maxlen=maxlen)\n",
    "input_test = sequence.pad_sequences(input_test, maxlen=maxlen)\n",
    "print('input_train shape:', input_train.shape)\n",
    "print('input_test shape:', input_test.shape)"
   ]
  },
  {
   "cell_type": "code",
   "execution_count": 109,
   "metadata": {},
   "outputs": [
    {
     "name": "stdout",
     "output_type": "stream",
     "text": [
      "Train on 20000 samples, validate on 5000 samples\n",
      "Epoch 1/10\n",
      "20000/20000 [==============================] - 20s 1ms/step - loss: 0.6415 - acc: 0.6119 - val_loss: 0.4914 - val_acc: 0.7830\n",
      "Epoch 2/10\n",
      "20000/20000 [==============================] - 20s 986us/step - loss: 0.3958 - acc: 0.8318 - val_loss: 0.5077 - val_acc: 0.7880\n",
      "Epoch 3/10\n",
      "20000/20000 [==============================] - 20s 1ms/step - loss: 0.2734 - acc: 0.8931 - val_loss: 0.4007 - val_acc: 0.8242\n",
      "Epoch 4/10\n",
      "20000/20000 [==============================] - 20s 1ms/step - loss: 0.1822 - acc: 0.9334 - val_loss: 0.4718 - val_acc: 0.8030\n",
      "Epoch 5/10\n",
      "20000/20000 [==============================] - 20s 985us/step - loss: 0.1133 - acc: 0.9621 - val_loss: 0.4653 - val_acc: 0.8244\n",
      "Epoch 6/10\n",
      "20000/20000 [==============================] - 19s 971us/step - loss: 0.0637 - acc: 0.9806 - val_loss: 0.5391 - val_acc: 0.8124\n",
      "Epoch 7/10\n",
      "20000/20000 [==============================] - 21s 1ms/step - loss: 0.0339 - acc: 0.9907 - val_loss: 0.6533 - val_acc: 0.7834\n",
      "Epoch 8/10\n",
      "20000/20000 [==============================] - 22s 1ms/step - loss: 0.0197 - acc: 0.9946 - val_loss: 0.7566 - val_acc: 0.7752\n",
      "Epoch 9/10\n",
      "20000/20000 [==============================] - 21s 1ms/step - loss: 0.0123 - acc: 0.9969 - val_loss: 0.7087 - val_acc: 0.8086\n",
      "Epoch 10/10\n",
      "20000/20000 [==============================] - 21s 1ms/step - loss: 0.0094 - acc: 0.9973 - val_loss: 0.7882 - val_acc: 0.7896\n"
     ]
    }
   ],
   "source": [
    "from keras.layers import SimpleRNN\n",
    "from keras.layers import Dense\n",
    "model = Sequential() \n",
    "model.add(Embedding(max_features, 32)) \n",
    "model.add(SimpleRNN(32)) \n",
    "model.add(Dense(1, activation='sigmoid'))\n",
    "model.compile(optimizer='rmsprop', loss='binary_crossentropy',metrics=['acc']) \n",
    "history = model.fit(input_train, y_train,\n",
    "    epochs=10, batch_size=128, validation_split=0.2)"
   ]
  },
  {
   "cell_type": "markdown",
   "metadata": {},
   "source": [
    "Accuracy of 82.5%, worse than the first simple approach we tried. "
   ]
  },
  {
   "cell_type": "markdown",
   "metadata": {
    "collapsed": true
   },
   "source": [
    "### Long Short-Term Memory (LSTM)"
   ]
  },
  {
   "cell_type": "code",
   "execution_count": 110,
   "metadata": {},
   "outputs": [
    {
     "name": "stdout",
     "output_type": "stream",
     "text": [
      "Train on 20000 samples, validate on 5000 samples\n",
      "Epoch 1/10\n",
      "20000/20000 [==============================] - 72s 4ms/step - loss: 0.5005 - acc: 0.7563 - val_loss: 0.3815 - val_acc: 0.8464\n",
      "Epoch 2/10\n",
      "20000/20000 [==============================] - 65s 3ms/step - loss: 0.3084 - acc: 0.8751 - val_loss: 0.3809 - val_acc: 0.8314\n",
      "Epoch 3/10\n",
      "20000/20000 [==============================] - 67s 3ms/step - loss: 0.2529 - acc: 0.8979 - val_loss: 0.3386 - val_acc: 0.8500\n",
      "Epoch 4/10\n",
      "20000/20000 [==============================] - 63s 3ms/step - loss: 0.2189 - acc: 0.9155 - val_loss: 0.3544 - val_acc: 0.8442\n",
      "Epoch 5/10\n",
      "20000/20000 [==============================] - 64s 3ms/step - loss: 0.1984 - acc: 0.9252 - val_loss: 0.3606 - val_acc: 0.8484\n",
      "Epoch 6/10\n",
      "20000/20000 [==============================] - 66s 3ms/step - loss: 0.1778 - acc: 0.9313 - val_loss: 0.3966 - val_acc: 0.8410\n",
      "Epoch 7/10\n",
      "20000/20000 [==============================] - 67s 3ms/step - loss: 0.1650 - acc: 0.9394 - val_loss: 0.3951 - val_acc: 0.8434\n",
      "Epoch 8/10\n",
      "20000/20000 [==============================] - 71s 4ms/step - loss: 0.1501 - acc: 0.9464 - val_loss: 0.4485 - val_acc: 0.8380\n",
      "Epoch 9/10\n",
      "20000/20000 [==============================] - 73s 4ms/step - loss: 0.1378 - acc: 0.9508 - val_loss: 0.4542 - val_acc: 0.8356\n",
      "Epoch 10/10\n",
      "20000/20000 [==============================] - 79s 4ms/step - loss: 0.1299 - acc: 0.9539 - val_loss: 0.5979 - val_acc: 0.8160\n"
     ]
    }
   ],
   "source": [
    "from keras.layers import LSTM\n",
    "model = Sequential()\n",
    "model.add(Embedding(max_features, 32)) #32D embedding\n",
    "model.add(LSTM(32))\n",
    "model.add(Dense(1, activation='sigmoid'))\n",
    "model.compile(optimizer='rmsprop',\n",
    "              loss='binary_crossentropy',\n",
    "              metrics=['acc'])\n",
    "history = model.fit(input_train, y_train,\n",
    "                    epochs=10,\n",
    "                    batch_size=128,\n",
    "                    validation_split=0.2)"
   ]
  },
  {
   "cell_type": "markdown",
   "metadata": {
    "collapsed": true
   },
   "source": [
    "Accuracy of 84-85%. Better than simple RNN, but only slightly better than the first approach."
   ]
  },
  {
   "cell_type": "code",
   "execution_count": null,
   "metadata": {
    "collapsed": true
   },
   "outputs": [],
   "source": []
  }
 ],
 "metadata": {
  "kernelspec": {
   "display_name": "Python 3",
   "language": "python",
   "name": "python3"
  },
  "language_info": {
   "codemirror_mode": {
    "name": "ipython",
    "version": 3
   },
   "file_extension": ".py",
   "mimetype": "text/x-python",
   "name": "python",
   "nbconvert_exporter": "python",
   "pygments_lexer": "ipython3",
   "version": "3.6.8"
  }
 },
 "nbformat": 4,
 "nbformat_minor": 2
}

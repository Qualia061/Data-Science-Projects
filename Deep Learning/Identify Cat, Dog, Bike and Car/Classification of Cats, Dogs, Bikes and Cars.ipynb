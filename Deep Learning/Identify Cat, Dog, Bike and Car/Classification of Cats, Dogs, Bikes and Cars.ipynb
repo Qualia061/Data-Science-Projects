{
 "cells": [
  {
   "cell_type": "markdown",
   "metadata": {},
   "source": [
    "# Deep Learning: Classification of Cats, Dogs, Bikes and Cars"
   ]
  },
  {
   "cell_type": "markdown",
   "metadata": {},
   "source": [
    "## Initial Model"
   ]
  },
  {
   "cell_type": "code",
   "execution_count": 27,
   "metadata": {
    "collapsed": true
   },
   "outputs": [],
   "source": [
    "from keras import layers\n",
    "from keras import models\n",
    "model = models.Sequential()\n",
    "model.add(layers.Conv2D(32, (3, 3), activation='relu', padding=\"same\",\n",
    "                        input_shape=(32, 32, 3))) #we need to specify the size of images, 150 x 150 in our case\n",
    "model.add(layers.MaxPooling2D((2, 2), padding=\"same\"))\n",
    "model.add(layers.Conv2D(64, (3, 3), activation='relu', padding=\"same\"))\n",
    "model.add(layers.MaxPooling2D((2, 2), padding=\"same\"))\n",
    "model.add(layers.Conv2D(128, (3, 3), activation='relu', padding=\"same\"))\n",
    "model.add(layers.MaxPooling2D((2, 2), padding=\"same\"))\n",
    "model.add(layers.Conv2D(128, (3, 3), activation='relu', padding=\"same\"))\n",
    "model.add(layers.MaxPooling2D((2, 2), padding=\"same\"))\n",
    "model.add(layers.Flatten())\n",
    "model.add(layers.Dense(512, activation='relu'))\n",
    "model.add(layers.Dense(4, activation='softmax')) #alternatively we could use the softmax activation function, in which case you should change the learning rate"
   ]
  },
  {
   "cell_type": "code",
   "execution_count": 28,
   "metadata": {
    "collapsed": true
   },
   "outputs": [],
   "source": [
    "from keras import optimizers\n",
    "model.compile(loss='categorical_crossentropy',\n",
    "            optimizer=optimizers.RMSprop(lr=0.1),\n",
    "            metrics=['acc'])\n"
   ]
  },
  {
   "cell_type": "code",
   "execution_count": 29,
   "metadata": {},
   "outputs": [
    {
     "name": "stdout",
     "output_type": "stream",
     "text": [
      "Found 1675 images belonging to 4 classes.\n",
      "Found 835 images belonging to 4 classes.\n"
     ]
    }
   ],
   "source": [
    "\n",
    "train_dir = '~path\\\\train'\n",
    "val_dir ='~path\\\\val'\n",
    "test_dir = '~path\\\\test'\n",
    "\n",
    "from keras.preprocessing.image import ImageDataGenerator\n",
    "train_datagen = ImageDataGenerator(rescale=1./255) #rescale the tensor values to [0,1]\n",
    "test_datagen = ImageDataGenerator(rescale=1./255)\n",
    "train_generator = train_datagen.flow_from_directory(\n",
    "        train_dir,\n",
    "        target_size=(32, 32),\n",
    "        batch_size=20,\n",
    "        class_mode='categorical') #we only have two classes\n",
    "\n",
    "validation_generator = test_datagen.flow_from_directory(\n",
    "        val_dir,\n",
    "        target_size=(32, 32),\n",
    "        batch_size=20,\n",
    "        class_mode='categorical')"
   ]
  },
  {
   "cell_type": "code",
   "execution_count": 30,
   "metadata": {
    "scrolled": true
   },
   "outputs": [
    {
     "name": "stdout",
     "output_type": "stream",
     "text": [
      "start..\n",
      "Epoch 1/10\n",
      "100/100 [==============================] - 101s 1s/step - loss: 11.8042 - acc: 0.2630 - val_loss: 11.6795 - val_acc: 0.2754\n",
      "Epoch 2/10\n",
      "100/100 [==============================] - 97s 974ms/step - loss: 11.8737 - acc: 0.2633 - val_loss: 12.1007 - val_acc: 0.2492\n",
      "Epoch 3/10\n",
      "100/100 [==============================] - 97s 966ms/step - loss: 11.7662 - acc: 0.2700 - val_loss: 11.6633 - val_acc: 0.2764\n",
      "Epoch 4/10\n",
      "100/100 [==============================] - 97s 974ms/step - loss: 11.8843 - acc: 0.2627 - val_loss: 12.0845 - val_acc: 0.2503\n",
      "Epoch 5/10\n",
      "100/100 [==============================] - 98s 981ms/step - loss: 11.8710 - acc: 0.2635 - val_loss: 11.6795 - val_acc: 0.2754\n",
      "Epoch 6/10\n",
      "100/100 [==============================] - 97s 967ms/step - loss: 11.8683 - acc: 0.2637 - val_loss: 11.8851 - val_acc: 0.2626\n",
      "Epoch 7/10\n",
      "100/100 [==============================] - 99s 991ms/step - loss: 11.9758 - acc: 0.2570 - val_loss: 11.8415 - val_acc: 0.2653\n",
      "Epoch 8/10\n",
      "100/100 [==============================] - 96s 958ms/step - loss: 11.7716 - acc: 0.2697 - val_loss: 11.6471 - val_acc: 0.2774\n",
      "Epoch 9/10\n",
      "100/100 [==============================] - 98s 979ms/step - loss: 11.8065 - acc: 0.2675 - val_loss: 11.8901 - val_acc: 0.2623\n",
      "Epoch 10/10\n",
      "100/100 [==============================] - 97s 973ms/step - loss: 11.8925 - acc: 0.2622 - val_loss: 12.0521 - val_acc: 0.2523\n"
     ]
    }
   ],
   "source": [
    "print (\"start..\")\n",
    "history = model.fit_generator(\n",
    "      train_generator,\n",
    "      steps_per_epoch=100,\n",
    "      epochs=10,\n",
    "      validation_data=validation_generator,\n",
    "      validation_steps=50)"
   ]
  },
  {
   "cell_type": "code",
   "execution_count": 76,
   "metadata": {},
   "outputs": [
    {
     "data": {
      "image/png": "[encoded data removed]",
      "text/plain": [
       "<Figure size 432x288 with 1 Axes>"
      ]
     },
     "metadata": {},
     "output_type": "display_data"
    },
    {
     "data": {
      "image/png": "[encoded data removed]",
      "text/plain": [
       "<Figure size 432x288 with 1 Axes>"
      ]
     },
     "metadata": {},
     "output_type": "display_data"
    }
   ],
   "source": [
    "import matplotlib.pyplot as plt\n",
    "acc = history.history['acc']\n",
    "val_acc = history.history['val_acc']\n",
    "loss = history.history['loss']\n",
    "val_loss = history.history['val_loss']\n",
    "epochs = range(1, len(acc) + 1)\n",
    "plt.plot(epochs, acc, 'bo', label='Training acc')\n",
    "plt.plot(epochs, val_acc, 'b', label='Validation acc')\n",
    "plt.title('Training and validation accuracy')\n",
    "plt.legend()\n",
    "plt.figure()\n",
    "plt.plot(epochs, loss, 'bo', label='Training loss')\n",
    "plt.plot(epochs, val_loss, 'b', label='Validation loss')\n",
    "plt.title('Training and validation loss')\n",
    "plt.legend()\n",
    "plt.show()"
   ]
  },
  {
   "cell_type": "markdown",
   "metadata": {},
   "source": [
    "## Improving the Model:"
   ]
  },
  {
   "cell_type": "code",
   "execution_count": 31,
   "metadata": {
    "collapsed": true
   },
   "outputs": [],
   "source": [
    "from keras import layers\n",
    "from keras import models\n",
    "model = models.Sequential()\n",
    "model.add(layers.Conv2D(32, (3, 3), activation='relu', padding=\"same\",\n",
    "                        input_shape=(32, 32, 3))) #we need to specify the size of images, 150 x 150 in our case\n",
    "model.add(layers.MaxPooling2D((2, 2), padding=\"same\"))\n",
    "model.add(layers.Conv2D(64, (3, 3), activation='relu', padding=\"same\"))\n",
    "model.add(layers.MaxPooling2D((2, 2), padding=\"same\"))\n",
    "model.add(layers.Conv2D(128, (3, 3), activation='relu', padding=\"same\"))\n",
    "model.add(layers.MaxPooling2D((2, 2), padding=\"same\"))\n",
    "model.add(layers.Conv2D(128, (3, 3), activation='relu', padding=\"same\"))\n",
    "model.add(layers.MaxPooling2D((2, 2), padding=\"same\"))\n",
    "model.add(layers.Flatten())\n",
    "model.add(layers.Dense(512, activation='relu'))\n",
    "model.add(layers.Dense(4, activation='softmax')) #alternatively we could use the softmax activation function, in which case you should change the learning rate"
   ]
  },
  {
   "cell_type": "code",
   "execution_count": 32,
   "metadata": {
    "collapsed": true
   },
   "outputs": [],
   "source": [
    "from keras import optimizers\n",
    "model.compile(loss='categorical_crossentropy',\n",
    "            optimizer=optimizers.RMSprop(lr=0.0001),\n",
    "            metrics=['acc'])\n"
   ]
  },
  {
   "cell_type": "code",
   "execution_count": 33,
   "metadata": {},
   "outputs": [
    {
     "name": "stdout",
     "output_type": "stream",
     "text": [
      "Found 1675 images belonging to 4 classes.\n",
      "Found 835 images belonging to 4 classes.\n"
     ]
    }
   ],
   "source": [
    "train_dir = '~path\\\\train'\n",
    "val_dir ='~path\\\\val'\n",
    "test_dir = '~path\\\\test'\n",
    "\n",
    "from keras.preprocessing.image import ImageDataGenerator\n",
    "train_datagen = ImageDataGenerator(rescale=1./255) #rescale the tensor values to [0,1]\n",
    "test_datagen = ImageDataGenerator(rescale=1./255)\n",
    "train_generator = train_datagen.flow_from_directory(\n",
    "        train_dir,\n",
    "        target_size=(32, 32),\n",
    "        batch_size=20,\n",
    "        class_mode='categorical') #we only have two classes\n",
    "\n",
    "validation_generator = test_datagen.flow_from_directory(\n",
    "        val_dir,\n",
    "        target_size=(32, 32),\n",
    "        batch_size=20,\n",
    "        class_mode='categorical')"
   ]
  },
  {
   "cell_type": "code",
   "execution_count": 34,
   "metadata": {
    "scrolled": true
   },
   "outputs": [
    {
     "name": "stdout",
     "output_type": "stream",
     "text": [
      "start..\n",
      "Epoch 1/20\n",
      "100/100 [==============================] - 108s 1s/step - loss: 1.1851 - acc: 0.5193 - val_loss: 0.9380 - val_acc: 0.6362\n",
      "Epoch 2/20\n",
      "100/100 [==============================] - 98s 984ms/step - loss: 0.7306 - acc: 0.7127 - val_loss: 0.6745 - val_acc: 0.7146\n",
      "Epoch 3/20\n",
      "100/100 [==============================] - 98s 981ms/step - loss: 0.6256 - acc: 0.7163 - val_loss: 0.6078 - val_acc: 0.7357\n",
      "Epoch 4/20\n",
      "100/100 [==============================] - 100s 1000ms/step - loss: 0.5556 - acc: 0.7538 - val_loss: 0.5859 - val_acc: 0.7457\n",
      "Epoch 5/20\n",
      "100/100 [==============================] - 95s 954ms/step - loss: 0.5218 - acc: 0.7708 - val_loss: 0.7166 - val_acc: 0.6834\n",
      "Epoch 6/20\n",
      "100/100 [==============================] - 97s 973ms/step - loss: 0.4831 - acc: 0.7858 - val_loss: 0.5215 - val_acc: 0.7646\n",
      "Epoch 7/20\n",
      "100/100 [==============================] - 97s 970ms/step - loss: 0.4419 - acc: 0.8013 - val_loss: 0.5012 - val_acc: 0.7749\n",
      "Epoch 8/20\n",
      "100/100 [==============================] - 97s 975ms/step - loss: 0.4408 - acc: 0.7982 - val_loss: 0.4841 - val_acc: 0.7889\n",
      "Epoch 9/20\n",
      "100/100 [==============================] - 95s 955ms/step - loss: 0.4208 - acc: 0.8078 - val_loss: 0.4672 - val_acc: 0.7950\n",
      "Epoch 10/20\n",
      "100/100 [==============================] - 97s 971ms/step - loss: 0.4016 - acc: 0.8195 - val_loss: 0.5399 - val_acc: 0.7678\n",
      "Epoch 11/20\n",
      "100/100 [==============================] - 98s 981ms/step - loss: 0.3863 - acc: 0.8270 - val_loss: 0.4598 - val_acc: 0.7980\n",
      "Epoch 12/20\n",
      "100/100 [==============================] - 98s 977ms/step - loss: 0.3503 - acc: 0.8395 - val_loss: 0.5172 - val_acc: 0.7849\n",
      "Epoch 13/20\n",
      "100/100 [==============================] - 97s 971ms/step - loss: 0.3507 - acc: 0.8430 - val_loss: 0.4893 - val_acc: 0.7799\n",
      "Epoch 14/20\n",
      "100/100 [==============================] - 97s 972ms/step - loss: 0.3319 - acc: 0.8527 - val_loss: 0.4394 - val_acc: 0.8141\n",
      "Epoch 15/20\n",
      "100/100 [==============================] - 98s 979ms/step - loss: 0.3143 - acc: 0.8607 - val_loss: 0.4974 - val_acc: 0.8010\n",
      "Epoch 16/20\n",
      "100/100 [==============================] - 101s 1s/step - loss: 0.3079 - acc: 0.8647 - val_loss: 0.4080 - val_acc: 0.8273\n",
      "Epoch 17/20\n",
      "100/100 [==============================] - 98s 982ms/step - loss: 0.2722 - acc: 0.8903 - val_loss: 0.7330 - val_acc: 0.7296\n",
      "Epoch 18/20\n",
      "100/100 [==============================] - 97s 970ms/step - loss: 0.2733 - acc: 0.8850 - val_loss: 0.4177 - val_acc: 0.8352\n",
      "Epoch 19/20\n",
      "100/100 [==============================] - 95s 952ms/step - loss: 0.2388 - acc: 0.9000 - val_loss: 0.3949 - val_acc: 0.8513\n",
      "Epoch 20/20\n",
      "100/100 [==============================] - 97s 969ms/step - loss: 0.2429 - acc: 0.9018 - val_loss: 0.5227 - val_acc: 0.7759\n"
     ]
    }
   ],
   "source": [
    "print (\"start..\")\n",
    "history = model.fit_generator(\n",
    "      train_generator,\n",
    "      steps_per_epoch=100,\n",
    "      epochs=20,\n",
    "      validation_data=validation_generator,\n",
    "      validation_steps=50)"
   ]
  },
  {
   "cell_type": "code",
   "execution_count": 35,
   "metadata": {},
   "outputs": [
    {
     "data": {
      "image/png": "[encoded data removed]",
      "text/plain": [
       "<Figure size 432x288 with 1 Axes>"
      ]
     },
     "metadata": {},
     "output_type": "display_data"
    },
    {
     "data": {
      "image/png": "[encoded data removed]",
      "text/plain": [
       "<Figure size 432x288 with 1 Axes>"
      ]
     },
     "metadata": {},
     "output_type": "display_data"
    }
   ],
   "source": [
    "import matplotlib.pyplot as plt\n",
    "acc = history.history['acc']\n",
    "val_acc = history.history['val_acc']\n",
    "loss = history.history['loss']\n",
    "val_loss = history.history['val_loss']\n",
    "epochs = range(1, len(acc) + 1)\n",
    "plt.plot(epochs, acc, 'bo', label='Training acc')\n",
    "plt.plot(epochs, val_acc, 'b', label='Validation acc')\n",
    "plt.title('Training and validation accuracy')\n",
    "plt.legend()\n",
    "plt.figure()\n",
    "plt.plot(epochs, loss, 'bo', label='Training loss')\n",
    "plt.plot(epochs, val_loss, 'b', label='Validation loss')\n",
    "plt.title('Training and validation loss')\n",
    "plt.legend()\n",
    "plt.show()"
   ]
  },
  {
   "cell_type": "markdown",
   "metadata": {},
   "source": [
    "## The accuracy is significantly improved by increasing the number of epochs to 20 and decreasing the learning rate to 0.0001. More epoches give the model more chances to update the weight and decrease the loss. The initial learning rate 0.1 is too large and may cause overshoting, so I set the learning rate to 0.0001, which is not too small and not too large."
   ]
  },
  {
   "cell_type": "markdown",
   "metadata": {},
   "source": [
    "## Further Improving the Model"
   ]
  },
  {
   "cell_type": "code",
   "execution_count": 81,
   "metadata": {
    "scrolled": true
   },
   "outputs": [
    {
     "name": "stdout",
     "output_type": "stream",
     "text": [
      "Found 1675 images belonging to 4 classes.\n",
      "Found 835 images belonging to 4 classes.\n",
      "start..\n",
      "Epoch 1/20\n",
      "100/100 [==============================] - 101s 1s/step - loss: 1.3888 - acc: 0.2560 - val_loss: 1.3936 - val_acc: 0.2804\n",
      "Epoch 2/20\n",
      "100/100 [==============================] - 99s 989ms/step - loss: 1.3893 - acc: 0.2727 - val_loss: 1.3952 - val_acc: 0.2734\n",
      "Epoch 3/20\n",
      "100/100 [==============================] - 100s 1s/step - loss: 1.3884 - acc: 0.2745 - val_loss: 1.3936 - val_acc: 0.2985\n",
      "Epoch 4/20\n",
      "100/100 [==============================] - 101s 1s/step - loss: 1.3894 - acc: 0.2720 - val_loss: 1.3908 - val_acc: 0.2955\n",
      "Epoch 5/20\n",
      "100/100 [==============================] - 98s 983ms/step - loss: 1.3873 - acc: 0.2837 - val_loss: 1.3935 - val_acc: 0.2975\n",
      "Epoch 6/20\n",
      "100/100 [==============================] - 96s 964ms/step - loss: 1.3878 - acc: 0.2842 - val_loss: 1.3909 - val_acc: 0.3152\n",
      "Epoch 7/20\n",
      "100/100 [==============================] - 96s 959ms/step - loss: 1.3863 - acc: 0.2835 - val_loss: 1.3915 - val_acc: 0.3005\n",
      "Epoch 8/20\n",
      "100/100 [==============================] - 96s 963ms/step - loss: 1.3871 - acc: 0.2950 - val_loss: 1.3914 - val_acc: 0.2935\n",
      "Epoch 9/20\n",
      "100/100 [==============================] - 97s 967ms/step - loss: 1.3874 - acc: 0.2877 - val_loss: 1.3906 - val_acc: 0.2995\n",
      "Epoch 10/20\n",
      "100/100 [==============================] - 95s 951ms/step - loss: 1.3861 - acc: 0.2890 - val_loss: 1.3898 - val_acc: 0.2955\n",
      "Epoch 11/20\n",
      "100/100 [==============================] - 98s 976ms/step - loss: 1.3853 - acc: 0.2955 - val_loss: 1.3905 - val_acc: 0.2980\n",
      "Epoch 12/20\n",
      "100/100 [==============================] - 96s 963ms/step - loss: 1.3865 - acc: 0.2923 - val_loss: 1.3888 - val_acc: 0.2915\n",
      "Epoch 13/20\n",
      "100/100 [==============================] - 95s 949ms/step - loss: 1.3851 - acc: 0.2818 - val_loss: 1.3887 - val_acc: 0.3065\n",
      "Epoch 14/20\n",
      "100/100 [==============================] - 96s 964ms/step - loss: 1.3837 - acc: 0.2990 - val_loss: 1.3886 - val_acc: 0.2925\n",
      "Epoch 15/20\n",
      "100/100 [==============================] - 96s 956ms/step - loss: 1.3841 - acc: 0.3030 - val_loss: 1.3876 - val_acc: 0.2965\n",
      "Epoch 16/20\n",
      "100/100 [==============================] - 98s 978ms/step - loss: 1.3842 - acc: 0.2903 - val_loss: 1.3881 - val_acc: 0.2879\n",
      "Epoch 17/20\n",
      "100/100 [==============================] - 96s 964ms/step - loss: 1.3835 - acc: 0.2872 - val_loss: 1.3868 - val_acc: 0.2864\n",
      "Epoch 18/20\n",
      "100/100 [==============================] - 96s 960ms/step - loss: 1.3834 - acc: 0.2927 - val_loss: 1.3864 - val_acc: 0.2965\n",
      "Epoch 19/20\n",
      "100/100 [==============================] - 96s 956ms/step - loss: 1.3836 - acc: 0.2867 - val_loss: 1.3851 - val_acc: 0.3085\n",
      "Epoch 20/20\n",
      "100/100 [==============================] - 96s 956ms/step - loss: 1.3827 - acc: 0.2948 - val_loss: 1.3869 - val_acc: 0.2784\n",
      "Running Time: 1942.9371745586395\n",
      "Found 1675 images belonging to 4 classes.\n",
      "Found 835 images belonging to 4 classes.\n",
      "start..\n",
      "Epoch 1/20\n",
      "100/100 [==============================] - 99s 989ms/step - loss: 1.3840 - acc: 0.2552 - val_loss: 1.3804 - val_acc: 0.2774\n",
      "Epoch 2/20\n",
      "100/100 [==============================] - 96s 962ms/step - loss: 1.3825 - acc: 0.2730 - val_loss: 1.3775 - val_acc: 0.3065\n",
      "Epoch 3/20\n",
      "100/100 [==============================] - 95s 953ms/step - loss: 1.3798 - acc: 0.3030 - val_loss: 1.3769 - val_acc: 0.2824\n",
      "Epoch 4/20\n",
      "100/100 [==============================] - 95s 955ms/step - loss: 1.3789 - acc: 0.2947 - val_loss: 1.3748 - val_acc: 0.3156\n",
      "Epoch 5/20\n",
      "100/100 [==============================] - 97s 973ms/step - loss: 1.3775 - acc: 0.3002 - val_loss: 1.3741 - val_acc: 0.3055\n",
      "Epoch 6/20\n",
      "100/100 [==============================] - 96s 957ms/step - loss: 1.3748 - acc: 0.3023 - val_loss: 1.3721 - val_acc: 0.3212\n",
      "Epoch 7/20\n",
      "100/100 [==============================] - 96s 959ms/step - loss: 1.3732 - acc: 0.3038 - val_loss: 1.3684 - val_acc: 0.3196\n",
      "Epoch 8/20\n",
      "100/100 [==============================] - 96s 962ms/step - loss: 1.3723 - acc: 0.3093 - val_loss: 1.3671 - val_acc: 0.3236\n",
      "Epoch 9/20\n",
      "100/100 [==============================] - 96s 957ms/step - loss: 1.3695 - acc: 0.3165 - val_loss: 1.3657 - val_acc: 0.3337\n",
      "Epoch 10/20\n",
      "100/100 [==============================] - 95s 947ms/step - loss: 1.3685 - acc: 0.3178 - val_loss: 1.3636 - val_acc: 0.3146\n",
      "Epoch 11/20\n",
      "100/100 [==============================] - 97s 966ms/step - loss: 1.3649 - acc: 0.3168 - val_loss: 1.3615 - val_acc: 0.3354\n",
      "Epoch 12/20\n",
      "100/100 [==============================] - 96s 957ms/step - loss: 1.3670 - acc: 0.3150 - val_loss: 1.3638 - val_acc: 0.3216\n",
      "Epoch 13/20\n",
      "100/100 [==============================] - 96s 957ms/step - loss: 1.3614 - acc: 0.3278 - val_loss: 1.3577 - val_acc: 0.3447\n",
      "Epoch 14/20\n",
      "100/100 [==============================] - 96s 961ms/step - loss: 1.3610 - acc: 0.3255 - val_loss: 1.3563 - val_acc: 0.3799\n",
      "Epoch 15/20\n",
      "100/100 [==============================] - 96s 965ms/step - loss: 1.3619 - acc: 0.3307 - val_loss: 1.3557 - val_acc: 0.3367\n",
      "Epoch 16/20\n",
      "100/100 [==============================] - 97s 966ms/step - loss: 1.3586 - acc: 0.3317 - val_loss: 1.3523 - val_acc: 0.3758\n",
      "Epoch 17/20\n",
      "100/100 [==============================] - 97s 971ms/step - loss: 1.3566 - acc: 0.3388 - val_loss: 1.3512 - val_acc: 0.3558\n",
      "Epoch 18/20\n",
      "100/100 [==============================] - 96s 962ms/step - loss: 1.3545 - acc: 0.3438 - val_loss: 1.3518 - val_acc: 0.3709\n",
      "Epoch 19/20\n",
      "100/100 [==============================] - 95s 954ms/step - loss: 1.3523 - acc: 0.3370 - val_loss: 1.3468 - val_acc: 0.3950\n",
      "Epoch 20/20\n",
      "100/100 [==============================] - 96s 960ms/step - loss: 1.3503 - acc: 0.3500 - val_loss: 1.3477 - val_acc: 0.3799\n",
      "Running Time: 1923.9225454330444\n",
      "Found 1675 images belonging to 4 classes.\n",
      "Found 835 images belonging to 4 classes.\n",
      "start..\n",
      "Epoch 1/20\n",
      "100/100 [==============================] - 98s 976ms/step - loss: 1.3700 - acc: 0.3428 - val_loss: 1.3552 - val_acc: 0.3930\n",
      "Epoch 2/20\n",
      "100/100 [==============================] - 95s 954ms/step - loss: 1.3485 - acc: 0.3455 - val_loss: 1.3403 - val_acc: 0.4884\n",
      "Epoch 3/20\n",
      "100/100 [==============================] - 96s 958ms/step - loss: 1.3219 - acc: 0.4740 - val_loss: 1.3049 - val_acc: 0.5467\n",
      "Epoch 4/20\n",
      "100/100 [==============================] - 97s 975ms/step - loss: 1.2999 - acc: 0.5260 - val_loss: 1.2829 - val_acc: 0.6161\n",
      "Epoch 5/20\n",
      "100/100 [==============================] - 97s 970ms/step - loss: 1.2579 - acc: 0.6202 - val_loss: 1.2413 - val_acc: 0.6231\n",
      "Epoch 6/20\n",
      "100/100 [==============================] - 96s 961ms/step - loss: 1.2143 - acc: 0.6227 - val_loss: 1.1972 - val_acc: 0.6374\n",
      "Epoch 7/20\n",
      "100/100 [==============================] - 96s 959ms/step - loss: 1.1540 - acc: 0.6413 - val_loss: 1.1293 - val_acc: 0.6302\n",
      "Epoch 8/20\n",
      "100/100 [==============================] - 96s 961ms/step - loss: 1.0942 - acc: 0.6562 - val_loss: 1.0767 - val_acc: 0.6543\n",
      "Epoch 9/20\n",
      "100/100 [==============================] - 95s 952ms/step - loss: 1.0244 - acc: 0.6733 - val_loss: 1.0055 - val_acc: 0.6362\n",
      "Epoch 10/20\n",
      "100/100 [==============================] - 97s 968ms/step - loss: 0.9603 - acc: 0.6732 - val_loss: 0.9499 - val_acc: 0.6372\n",
      "Epoch 11/20\n",
      "100/100 [==============================] - 98s 977ms/step - loss: 0.8945 - acc: 0.6942 - val_loss: 0.8951 - val_acc: 0.6636\n",
      "Epoch 12/20\n",
      "100/100 [==============================] - 97s 970ms/step - loss: 0.8468 - acc: 0.6923 - val_loss: 0.8507 - val_acc: 0.6563\n",
      "Epoch 13/20\n",
      "100/100 [==============================] - 98s 981ms/step - loss: 0.8000 - acc: 0.7007 - val_loss: 0.8140 - val_acc: 0.6714\n",
      "Epoch 14/20\n",
      "100/100 [==============================] - 97s 967ms/step - loss: 0.7444 - acc: 0.7225 - val_loss: 0.7876 - val_acc: 0.6573\n",
      "Epoch 15/20\n",
      "100/100 [==============================] - 96s 958ms/step - loss: 0.7209 - acc: 0.7343 - val_loss: 0.7792 - val_acc: 0.6633\n",
      "Epoch 16/20\n",
      "100/100 [==============================] - 98s 984ms/step - loss: 0.6952 - acc: 0.7262 - val_loss: 0.7285 - val_acc: 0.6929\n",
      "Epoch 17/20\n",
      "100/100 [==============================] - 94s 945ms/step - loss: 0.6700 - acc: 0.7322 - val_loss: 0.7325 - val_acc: 0.6985\n",
      "Epoch 18/20\n",
      "100/100 [==============================] - 96s 963ms/step - loss: 0.6465 - acc: 0.7522 - val_loss: 0.6973 - val_acc: 0.6894\n"
     ]
    },
    {
     "name": "stdout",
     "output_type": "stream",
     "text": [
      "Epoch 19/20\n",
      "100/100 [==============================] - 97s 975ms/step - loss: 0.6181 - acc: 0.7588 - val_loss: 0.6986 - val_acc: 0.6945\n",
      "Epoch 20/20\n",
      "100/100 [==============================] - 96s 961ms/step - loss: 0.6177 - acc: 0.7595 - val_loss: 0.6739 - val_acc: 0.6955\n",
      "Running Time: 1931.917799949646\n",
      "Found 1675 images belonging to 4 classes.\n",
      "Found 835 images belonging to 4 classes.\n",
      "start..\n",
      "Epoch 1/20\n",
      "100/100 [==============================] - 97s 968ms/step - loss: 1.1637 - acc: 0.5258 - val_loss: 0.9136 - val_acc: 0.6271\n",
      "Epoch 2/20\n",
      "100/100 [==============================] - 97s 967ms/step - loss: 0.7345 - acc: 0.6932 - val_loss: 0.7152 - val_acc: 0.6874\n",
      "Epoch 3/20\n",
      "100/100 [==============================] - 96s 956ms/step - loss: 0.5982 - acc: 0.7327 - val_loss: 0.5955 - val_acc: 0.7457\n",
      "Epoch 4/20\n",
      "100/100 [==============================] - 97s 974ms/step - loss: 0.5412 - acc: 0.7732 - val_loss: 0.5477 - val_acc: 0.7558\n",
      "Epoch 5/20\n",
      "100/100 [==============================] - 96s 961ms/step - loss: 0.5072 - acc: 0.7700 - val_loss: 0.5580 - val_acc: 0.7508\n",
      "Epoch 6/20\n",
      "100/100 [==============================] - 96s 957ms/step - loss: 0.4666 - acc: 0.7948 - val_loss: 0.5317 - val_acc: 0.7586\n",
      "Epoch 7/20\n",
      "100/100 [==============================] - 96s 956ms/step - loss: 0.4451 - acc: 0.8010 - val_loss: 0.5118 - val_acc: 0.7719\n",
      "Epoch 8/20\n",
      "100/100 [==============================] - 93s 935ms/step - loss: 0.4382 - acc: 0.8097 - val_loss: 0.5568 - val_acc: 0.7487\n",
      "Epoch 9/20\n",
      "100/100 [==============================] - 97s 970ms/step - loss: 0.4055 - acc: 0.8180 - val_loss: 0.4589 - val_acc: 0.8020\n",
      "Epoch 10/20\n",
      "100/100 [==============================] - 96s 955ms/step - loss: 0.3939 - acc: 0.8192 - val_loss: 0.5708 - val_acc: 0.7588\n",
      "Epoch 11/20\n",
      "100/100 [==============================] - 95s 946ms/step - loss: 0.3767 - acc: 0.8313 - val_loss: 0.4558 - val_acc: 0.8000\n",
      "Epoch 12/20\n",
      "100/100 [==============================] - 96s 959ms/step - loss: 0.3576 - acc: 0.8428 - val_loss: 0.4799 - val_acc: 0.8080\n",
      "Epoch 13/20\n",
      "100/100 [==============================] - 95s 952ms/step - loss: 0.3351 - acc: 0.8505 - val_loss: 0.4485 - val_acc: 0.8131\n",
      "Epoch 14/20\n",
      "100/100 [==============================] - 96s 962ms/step - loss: 0.3285 - acc: 0.8540 - val_loss: 0.4524 - val_acc: 0.8131\n",
      "Epoch 15/20\n",
      "100/100 [==============================] - 97s 971ms/step - loss: 0.3103 - acc: 0.8750 - val_loss: 0.4817 - val_acc: 0.7749\n",
      "Epoch 16/20\n",
      "100/100 [==============================] - 95s 955ms/step - loss: 0.2919 - acc: 0.8735 - val_loss: 0.4745 - val_acc: 0.8091\n",
      "Epoch 17/20\n",
      "100/100 [==============================] - 96s 956ms/step - loss: 0.2893 - acc: 0.8820 - val_loss: 0.4808 - val_acc: 0.8020\n",
      "Epoch 18/20\n",
      "100/100 [==============================] - 97s 975ms/step - loss: 0.2630 - acc: 0.8895 - val_loss: 0.4486 - val_acc: 0.8221\n",
      "Epoch 19/20\n",
      "100/100 [==============================] - 95s 955ms/step - loss: 0.2528 - acc: 0.8983 - val_loss: 0.5586 - val_acc: 0.7829\n",
      "Epoch 20/20\n",
      "100/100 [==============================] - 95s 955ms/step - loss: 0.2423 - acc: 0.8977 - val_loss: 0.6070 - val_acc: 0.7779\n",
      "Running Time: 1918.9893980026245\n",
      "Found 1675 images belonging to 4 classes.\n",
      "Found 835 images belonging to 4 classes.\n",
      "start..\n",
      "Epoch 1/20\n",
      "100/100 [==============================] - 98s 975ms/step - loss: 0.9820 - acc: 0.5512 - val_loss: 0.6548 - val_acc: 0.7045\n",
      "Epoch 2/20\n",
      "100/100 [==============================] - 96s 960ms/step - loss: 0.6174 - acc: 0.7232 - val_loss: 0.5671 - val_acc: 0.6985\n",
      "Epoch 3/20\n",
      "100/100 [==============================] - 98s 975ms/step - loss: 0.4698 - acc: 0.7765 - val_loss: 0.5107 - val_acc: 0.7869\n",
      "Epoch 4/20\n",
      "100/100 [==============================] - 96s 964ms/step - loss: 0.4170 - acc: 0.7973 - val_loss: 0.6482 - val_acc: 0.7377\n",
      "Epoch 5/20\n",
      "100/100 [==============================] - 97s 970ms/step - loss: 0.3997 - acc: 0.8172 - val_loss: 0.8274 - val_acc: 0.7497\n",
      "Epoch 6/20\n",
      "100/100 [==============================] - 96s 963ms/step - loss: 0.3764 - acc: 0.8292 - val_loss: 0.4707 - val_acc: 0.8222\n",
      "Epoch 7/20\n",
      "100/100 [==============================] - 96s 961ms/step - loss: 0.3311 - acc: 0.8542 - val_loss: 0.6528 - val_acc: 0.7910\n",
      "Epoch 8/20\n",
      "100/100 [==============================] - 94s 944ms/step - loss: 0.3093 - acc: 0.8548 - val_loss: 0.9565 - val_acc: 0.7719\n",
      "Epoch 9/20\n",
      "100/100 [==============================] - 96s 961ms/step - loss: 0.3089 - acc: 0.8757 - val_loss: 0.5156 - val_acc: 0.8382\n",
      "Epoch 10/20\n",
      "100/100 [==============================] - 97s 969ms/step - loss: 0.2918 - acc: 0.8807 - val_loss: 0.5344 - val_acc: 0.8161\n",
      "Epoch 11/20\n",
      "100/100 [==============================] - 95s 953ms/step - loss: 0.2490 - acc: 0.8975 - val_loss: 0.8654 - val_acc: 0.7949\n",
      "Epoch 12/20\n",
      "100/100 [==============================] - 96s 964ms/step - loss: 0.2592 - acc: 0.8963 - val_loss: 0.5322 - val_acc: 0.8241\n",
      "Epoch 13/20\n",
      "100/100 [==============================] - 95s 954ms/step - loss: 0.2473 - acc: 0.9048 - val_loss: 1.2867 - val_acc: 0.7427\n",
      "Epoch 14/20\n",
      "100/100 [==============================] - 97s 965ms/step - loss: 0.2188 - acc: 0.9165 - val_loss: 0.7273 - val_acc: 0.8382\n",
      "Epoch 15/20\n",
      "100/100 [==============================] - 96s 955ms/step - loss: 0.2531 - acc: 0.9127 - val_loss: 0.6595 - val_acc: 0.8402\n",
      "Epoch 16/20\n",
      "100/100 [==============================] - 96s 963ms/step - loss: 0.1845 - acc: 0.9370 - val_loss: 1.0103 - val_acc: 0.8222\n",
      "Epoch 17/20\n",
      "100/100 [==============================] - 95s 947ms/step - loss: 0.2067 - acc: 0.9315 - val_loss: 0.8621 - val_acc: 0.8332\n",
      "Epoch 18/20\n",
      "100/100 [==============================] - 96s 961ms/step - loss: 0.1667 - acc: 0.9475 - val_loss: 0.9923 - val_acc: 0.8161\n",
      "Epoch 19/20\n",
      "100/100 [==============================] - 96s 959ms/step - loss: 0.1704 - acc: 0.9435 - val_loss: 1.7552 - val_acc: 0.7608\n",
      "Epoch 20/20\n",
      "100/100 [==============================] - 96s 964ms/step - loss: 0.1618 - acc: 0.9475 - val_loss: 1.0825 - val_acc: 0.8101\n",
      "Running Time: 1923.2357306480408\n",
      "Found 1675 images belonging to 4 classes.\n",
      "Found 835 images belonging to 4 classes.\n",
      "start..\n",
      "Epoch 1/20\n",
      "100/100 [==============================] - 97s 972ms/step - loss: 11.8150 - acc: 0.2598 - val_loss: 11.9549 - val_acc: 0.2583\n",
      "Epoch 2/20\n",
      "100/100 [==============================] - 96s 964ms/step - loss: 11.6991 - acc: 0.2742 - val_loss: 11.7605 - val_acc: 0.2704\n",
      "Epoch 3/20\n",
      "100/100 [==============================] - 97s 966ms/step - loss: 11.9113 - acc: 0.2610 - val_loss: 11.6957 - val_acc: 0.2744\n",
      "Epoch 4/20\n",
      "100/100 [==============================] - 96s 962ms/step - loss: 11.9650 - acc: 0.2577 - val_loss: 12.0197 - val_acc: 0.2543\n",
      "Epoch 5/20\n",
      "100/100 [==============================] - 97s 969ms/step - loss: 11.7716 - acc: 0.2697 - val_loss: 11.8091 - val_acc: 0.2673\n",
      "Epoch 6/20\n",
      "100/100 [==============================] - 97s 967ms/step - loss: 11.9059 - acc: 0.2613 - val_loss: 11.9502 - val_acc: 0.2586\n",
      "Epoch 7/20\n",
      "100/100 [==============================] - 96s 962ms/step - loss: 11.8897 - acc: 0.2623 - val_loss: 11.5824 - val_acc: 0.2814\n",
      "Epoch 8/20\n",
      "100/100 [==============================] - 96s 963ms/step - loss: 11.7285 - acc: 0.2723 - val_loss: 11.9711 - val_acc: 0.2573\n",
      "Epoch 9/20\n",
      "100/100 [==============================] - 96s 961ms/step - loss: 11.9677 - acc: 0.2575 - val_loss: 11.8901 - val_acc: 0.2623\n",
      "Epoch 10/20\n",
      "100/100 [==============================] - 95s 955ms/step - loss: 11.8120 - acc: 0.2672 - val_loss: 11.7929 - val_acc: 0.2683\n",
      "Epoch 11/20\n",
      "100/100 [==============================] - 96s 963ms/step - loss: 11.8897 - acc: 0.2623 - val_loss: 11.9176 - val_acc: 0.2606\n",
      "Epoch 12/20\n",
      "100/100 [==============================] - 96s 961ms/step - loss: 11.7582 - acc: 0.2705 - val_loss: 11.6471 - val_acc: 0.2774\n",
      "Epoch 13/20\n",
      "100/100 [==============================] - 96s 955ms/step - loss: 11.9461 - acc: 0.2588 - val_loss: 11.9873 - val_acc: 0.2563\n",
      "Epoch 14/20\n",
      "100/100 [==============================] - 95s 953ms/step - loss: 11.8844 - acc: 0.2627 - val_loss: 12.0197 - val_acc: 0.2543\n",
      "Epoch 15/20\n",
      "100/100 [==============================] - 96s 961ms/step - loss: 11.8548 - acc: 0.2645 - val_loss: 11.7929 - val_acc: 0.2683\n",
      "Epoch 16/20\n",
      "100/100 [==============================] - 96s 961ms/step - loss: 11.8683 - acc: 0.2637 - val_loss: 11.8199 - val_acc: 0.2667\n",
      "Epoch 17/20\n",
      "100/100 [==============================] - 96s 959ms/step - loss: 11.7904 - acc: 0.2685 - val_loss: 12.1007 - val_acc: 0.2492\n",
      "Epoch 18/20\n",
      "100/100 [==============================] - 97s 971ms/step - loss: 11.9999 - acc: 0.2555 - val_loss: 11.6795 - val_acc: 0.2754\n",
      "Epoch 19/20\n",
      "100/100 [==============================] - 96s 957ms/step - loss: 11.8226 - acc: 0.2665 - val_loss: 11.6147 - val_acc: 0.2794\n",
      "Epoch 20/20\n",
      "100/100 [==============================] - 95s 951ms/step - loss: 11.7152 - acc: 0.2732 - val_loss: 12.0359 - val_acc: 0.2533\n",
      "Running Time: 1923.8439738750458\n",
      "Found 1675 images belonging to 4 classes.\n",
      "Found 835 images belonging to 4 classes.\n",
      "start..\n",
      "Epoch 1/20\n",
      "100/100 [==============================] - 97s 973ms/step - loss: 11.6649 - acc: 0.2687 - val_loss: 11.9711 - val_acc: 0.2573\n",
      "Epoch 2/20\n",
      "100/100 [==============================] - 96s 963ms/step - loss: 11.8682 - acc: 0.2637 - val_loss: 11.8091 - val_acc: 0.2673\n",
      "Epoch 3/20\n",
      "100/100 [==============================] - 96s 958ms/step - loss: 11.8548 - acc: 0.2645 - val_loss: 11.7281 - val_acc: 0.2724\n",
      "Epoch 4/20\n",
      "100/100 [==============================] - 95s 952ms/step - loss: 11.9327 - acc: 0.2597 - val_loss: 11.7281 - val_acc: 0.2724\n",
      "Epoch 5/20\n",
      "100/100 [==============================] - 101s 1s/step - loss: 11.8924 - acc: 0.2622 - val_loss: 12.0683 - val_acc: 0.2513\n",
      "Epoch 6/20\n",
      "100/100 [==============================] - 98s 984ms/step - loss: 11.9166 - acc: 0.2607 - val_loss: 11.7874 - val_acc: 0.2687\n",
      "Epoch 7/20\n",
      "100/100 [==============================] - 99s 988ms/step - loss: 11.9033 - acc: 0.2615 - val_loss: 11.9387 - val_acc: 0.2593\n",
      "Epoch 8/20\n",
      "100/100 [==============================] - 97s 972ms/step - loss: 11.7259 - acc: 0.2725 - val_loss: 11.9549 - val_acc: 0.2583\n",
      "Epoch 9/20\n",
      "100/100 [==============================] - 96s 959ms/step - loss: 11.8012 - acc: 0.2678 - val_loss: 11.6471 - val_acc: 0.2774\n",
      "Epoch 10/20\n",
      "100/100 [==============================] - 95s 949ms/step - loss: 11.8334 - acc: 0.2658 - val_loss: 11.9387 - val_acc: 0.2593\n",
      "Epoch 11/20\n",
      "100/100 [==============================] - 95s 954ms/step - loss: 11.9972 - acc: 0.2557 - val_loss: 11.8362 - val_acc: 0.2657\n",
      "Epoch 12/20\n",
      "100/100 [==============================] - 96s 956ms/step - loss: 11.8441 - acc: 0.2652 - val_loss: 11.8577 - val_acc: 0.2643\n",
      "Epoch 13/20\n",
      "100/100 [==============================] - 96s 963ms/step - loss: 11.8549 - acc: 0.2645 - val_loss: 11.8739 - val_acc: 0.2633\n",
      "Epoch 14/20\n",
      "100/100 [==============================] - 96s 962ms/step - loss: 11.8253 - acc: 0.2663 - val_loss: 11.7929 - val_acc: 0.2683\n",
      "Epoch 15/20\n",
      "100/100 [==============================] - 95s 947ms/step - loss: 11.7529 - acc: 0.2708 - val_loss: 11.7119 - val_acc: 0.2734\n",
      "Epoch 16/20\n",
      "100/100 [==============================] - 96s 958ms/step - loss: 11.9569 - acc: 0.2582 - val_loss: 11.9827 - val_acc: 0.2566\n",
      "Epoch 17/20\n",
      "100/100 [==============================] - 96s 956ms/step - loss: 11.9004 - acc: 0.2617 - val_loss: 11.8577 - val_acc: 0.2643\n",
      "Epoch 18/20\n",
      "100/100 [==============================] - 95s 951ms/step - loss: 11.7958 - acc: 0.2682 - val_loss: 11.9225 - val_acc: 0.2603\n",
      "Epoch 19/20\n",
      "100/100 [==============================] - 96s 957ms/step - loss: 11.6885 - acc: 0.2748 - val_loss: 11.7119 - val_acc: 0.2734\n",
      "Epoch 20/20\n",
      "100/100 [==============================] - 96s 963ms/step - loss: 12.0456 - acc: 0.2527 - val_loss: 11.7605 - val_acc: 0.2704\n",
      "Running Time: 1928.096937417984\n"
     ]
    }
   ],
   "source": [
    "from keras import layers\n",
    "from keras import models\n",
    "import time\n",
    "time_duration=[]\n",
    "val_accuracy=[]\n",
    "\n",
    "for learning_rate in [1e-7, 1e-6, 1e-5, 1e-4, 1e-3, 1e-2, 0.1]:\n",
    "\n",
    "    model = models.Sequential()\n",
    "    model.add(layers.Conv2D(32, (3, 3), activation='relu', padding=\"same\",\n",
    "                            input_shape=(32, 32, 3))) #we need to specify the size of images, 150 x 150 in our case\n",
    "    model.add(layers.MaxPooling2D((2, 2), padding=\"same\"))\n",
    "    model.add(layers.Conv2D(64, (3, 3), activation='relu', padding=\"same\"))\n",
    "    model.add(layers.MaxPooling2D((2, 2), padding=\"same\"))\n",
    "    model.add(layers.Conv2D(128, (3, 3), activation='relu', padding=\"same\"))\n",
    "    model.add(layers.MaxPooling2D((2, 2), padding=\"same\"))\n",
    "    model.add(layers.Conv2D(128, (3, 3), activation='relu', padding=\"same\"))\n",
    "    model.add(layers.MaxPooling2D((2, 2), padding=\"same\"))\n",
    "    model.add(layers.Flatten())\n",
    "    model.add(layers.Dense(512, activation='relu'))\n",
    "    model.add(layers.Dense(4, activation='softmax')) #alternatively we could use the softmax activation function, in which case you should change the learning rate\n",
    "\n",
    "    from keras import optimizers\n",
    "    model.compile(loss='categorical_crossentropy',\n",
    "                optimizer=optimizers.RMSprop(lr=learning_rate),\n",
    "                metrics=['acc'])\n",
    "\n",
    "\n",
    "    train_dir = '~path\\\\train'\n",
    "    val_dir ='~path\\\\val'\n",
    "    test_dir = '~path\\\\test'\n",
    "\n",
    "    from keras.preprocessing.image import ImageDataGenerator\n",
    "    train_datagen = ImageDataGenerator(rescale=1./255) #rescale the tensor values to [0,1]\n",
    "    test_datagen = ImageDataGenerator(rescale=1./255)\n",
    "    train_generator = train_datagen.flow_from_directory(\n",
    "            train_dir,\n",
    "            target_size=(32, 32),\n",
    "            batch_size=20,\n",
    "            class_mode='categorical') #we only have two classes\n",
    "\n",
    "    validation_generator = test_datagen.flow_from_directory(\n",
    "            val_dir,\n",
    "            target_size=(32, 32),\n",
    "            batch_size=20,\n",
    "            class_mode='categorical')\n",
    "\n",
    "    print (\"start..\")\n",
    "    start_time = time.time()\n",
    "    history = model.fit_generator(\n",
    "          train_generator,\n",
    "          steps_per_epoch=100,\n",
    "          epochs=20,\n",
    "          validation_data=validation_generator,\n",
    "          validation_steps=50)\n",
    "    duration=time.time() - start_time\n",
    "    print('Running Time: '+str(duration))\n",
    "    time_duration.append(duration)\n",
    "    val_accuracy.append(history.history['val_acc'][-1])"
   ]
  },
  {
   "cell_type": "code",
   "execution_count": null,
   "metadata": {
    "collapsed": true
   },
   "outputs": [],
   "source": [
    "import matplotlib.pyplot as plt\n",
    "acc = history.history['acc']\n",
    "val_acc = history.history['val_acc']\n",
    "loss = history.history['loss']\n",
    "val_loss = history.history['val_loss']\n",
    "epochs = range(1, len(acc) + 1)\n",
    "plt.plot(epochs, acc, 'bo', label='Training acc')\n",
    "plt.plot(epochs, val_acc, 'b', label='Validation acc')\n",
    "plt.title('Training and validation accuracy')\n",
    "plt.legend()\n",
    "plt.figure()\n",
    "plt.plot(epochs, loss, 'bo', label='Training loss')\n",
    "plt.plot(epochs, val_loss, 'b', label='Validation loss')\n",
    "plt.title('Training and validation loss')\n",
    "plt.legend()\n",
    "plt.show()"
   ]
  },
  {
   "cell_type": "code",
   "execution_count": 82,
   "metadata": {},
   "outputs": [
    {
     "data": {
      "text/plain": [
       "[1942.9371745586395,\n",
       " 1923.9225454330444,\n",
       " 1931.917799949646,\n",
       " 1918.9893980026245,\n",
       " 1923.2357306480408,\n",
       " 1923.8439738750458,\n",
       " 1928.096937417984]"
      ]
     },
     "execution_count": 82,
     "metadata": {},
     "output_type": "execute_result"
    }
   ],
   "source": [
    "time_duration"
   ]
  },
  {
   "cell_type": "code",
   "execution_count": 83,
   "metadata": {},
   "outputs": [
    {
     "data": {
      "text/plain": [
       "[0.2783919630113559,\n",
       " 0.37989950075221424,\n",
       " 0.6954773862158233,\n",
       " 0.7778894466970434,\n",
       " 0.8100502547906272,\n",
       " 0.2532663344588112,\n",
       " 0.27035176222348334]"
      ]
     },
     "execution_count": 83,
     "metadata": {},
     "output_type": "execute_result"
    }
   ],
   "source": [
    "val_accuracy"
   ]
  },
  {
   "cell_type": "code",
   "execution_count": 84,
   "metadata": {},
   "outputs": [
    {
     "name": "stdout",
     "output_type": "stream",
     "text": [
      "For learning rate = 1e-07, the accuracy is 0.2783919630113559 and the running time is 1942.9371745586395\n",
      "For learning rate = 1e-06, the accuracy is 0.37989950075221424 and the running time is 1923.9225454330444\n",
      "For learning rate = 1e-05, the accuracy is 0.6954773862158233 and the running time is 1931.917799949646\n",
      "For learning rate = 0.0001, the accuracy is 0.7778894466970434 and the running time is 1918.9893980026245\n",
      "For learning rate = 0.001, the accuracy is 0.8100502547906272 and the running time is 1923.2357306480408\n",
      "For learning rate = 0.01, the accuracy is 0.2532663344588112 and the running time is 1923.8439738750458\n",
      "For learning rate = 0.1, the accuracy is 0.27035176222348334 and the running time is 1928.096937417984\n"
     ]
    }
   ],
   "source": [
    "lr_rate=[1e-7, 1e-6, 1e-5, 1e-4, 1e-3, 1e-2, 0.1]\n",
    "for i in range(len(lr_rate)):\n",
    "    print('For learning rate = '+str(lr_rate[i])+ ', the accuracy is '+str(val_accuracy[i])+' and the running time is '+str(time_duration[i]))"
   ]
  },
  {
   "cell_type": "markdown",
   "metadata": {},
   "source": [
    "## I noticed that accuracy is much lower when learning rate is lower than 1e-05 or higher than 0.01, and the accuracy is higher when the learning rate is between 0.001 and 0.0001. Therefore, I can conclude that the optimal learning rate exists in this interval."
   ]
  },
  {
   "cell_type": "markdown",
   "metadata": {},
   "source": [
    "## Fitting with Pretrained Model:"
   ]
  },
  {
   "cell_type": "code",
   "execution_count": 60,
   "metadata": {
    "scrolled": true
   },
   "outputs": [
    {
     "name": "stdout",
     "output_type": "stream",
     "text": [
      "_________________________________________________________________\n",
      "Layer (type)                 Output Shape              Param #   \n",
      "=================================================================\n",
      "input_3 (InputLayer)         (None, 48, 48, 3)         0         \n",
      "_________________________________________________________________\n",
      "block1_conv1 (Conv2D)        (None, 48, 48, 64)        1792      \n",
      "_________________________________________________________________\n",
      "block1_conv2 (Conv2D)        (None, 48, 48, 64)        36928     \n",
      "_________________________________________________________________\n",
      "block1_pool (MaxPooling2D)   (None, 24, 24, 64)        0         \n",
      "_________________________________________________________________\n",
      "block2_conv1 (Conv2D)        (None, 24, 24, 128)       73856     \n",
      "_________________________________________________________________\n",
      "block2_conv2 (Conv2D)        (None, 24, 24, 128)       147584    \n",
      "_________________________________________________________________\n",
      "block2_pool (MaxPooling2D)   (None, 12, 12, 128)       0         \n",
      "_________________________________________________________________\n",
      "block3_conv1 (Conv2D)        (None, 12, 12, 256)       295168    \n",
      "_________________________________________________________________\n",
      "block3_conv2 (Conv2D)        (None, 12, 12, 256)       590080    \n",
      "_________________________________________________________________\n",
      "block3_conv3 (Conv2D)        (None, 12, 12, 256)       590080    \n",
      "_________________________________________________________________\n",
      "block3_pool (MaxPooling2D)   (None, 6, 6, 256)         0         \n",
      "_________________________________________________________________\n",
      "block4_conv1 (Conv2D)        (None, 6, 6, 512)         1180160   \n",
      "_________________________________________________________________\n",
      "block4_conv2 (Conv2D)        (None, 6, 6, 512)         2359808   \n",
      "_________________________________________________________________\n",
      "block4_conv3 (Conv2D)        (None, 6, 6, 512)         2359808   \n",
      "_________________________________________________________________\n",
      "block4_pool (MaxPooling2D)   (None, 3, 3, 512)         0         \n",
      "_________________________________________________________________\n",
      "block5_conv1 (Conv2D)        (None, 3, 3, 512)         2359808   \n",
      "_________________________________________________________________\n",
      "block5_conv2 (Conv2D)        (None, 3, 3, 512)         2359808   \n",
      "_________________________________________________________________\n",
      "block5_conv3 (Conv2D)        (None, 3, 3, 512)         2359808   \n",
      "_________________________________________________________________\n",
      "block5_pool (MaxPooling2D)   (None, 1, 1, 512)         0         \n",
      "=================================================================\n",
      "Total params: 14,714,688\n",
      "Trainable params: 14,714,688\n",
      "Non-trainable params: 0\n",
      "_________________________________________________________________\n"
     ]
    }
   ],
   "source": [
    "from keras.applications import VGG16\n",
    "conv_base = VGG16(weights='imagenet',\n",
    "                  include_top=False, #we are going to remove the top layer, VGG was trained for 1000 classes, here we only have two\n",
    "                  input_shape=(48,48, 3))\n",
    "\n",
    "conv_base.summary()"
   ]
  },
  {
   "cell_type": "code",
   "execution_count": 66,
   "metadata": {},
   "outputs": [
    {
     "name": "stdout",
     "output_type": "stream",
     "text": [
      "_________________________________________________________________\n",
      "Layer (type)                 Output Shape              Param #   \n",
      "=================================================================\n",
      "vgg16 (Model)                (None, 1, 1, 512)         14714688  \n",
      "_________________________________________________________________\n",
      "flatten_19 (Flatten)         (None, 512)               0         \n",
      "_________________________________________________________________\n",
      "dense_37 (Dense)             (None, 256)               131328    \n",
      "_________________________________________________________________\n",
      "dense_38 (Dense)             (None, 4)                 1028      \n",
      "=================================================================\n",
      "Total params: 14,847,044\n",
      "Trainable params: 132,356\n",
      "Non-trainable params: 14,714,688\n",
      "_________________________________________________________________\n"
     ]
    }
   ],
   "source": [
    "from keras import models\n",
    "from keras import layers\n",
    "model = models.Sequential()\n",
    "model.add(conv_base)\n",
    "model.add(layers.Flatten())\n",
    "model.add(layers.Dense(256, activation='relu'))\n",
    "model.add(layers.Dense(4, activation='softmax'))\n",
    "\n",
    "model.summary()"
   ]
  },
  {
   "cell_type": "code",
   "execution_count": 67,
   "metadata": {},
   "outputs": [
    {
     "name": "stdout",
     "output_type": "stream",
     "text": [
      "_________________________________________________________________\n",
      "Layer (type)                 Output Shape              Param #   \n",
      "=================================================================\n",
      "vgg16 (Model)                (None, 1, 1, 512)         14714688  \n",
      "_________________________________________________________________\n",
      "flatten_19 (Flatten)         (None, 512)               0         \n",
      "_________________________________________________________________\n",
      "dense_37 (Dense)             (None, 256)               131328    \n",
      "_________________________________________________________________\n",
      "dense_38 (Dense)             (None, 4)                 1028      \n",
      "=================================================================\n",
      "Total params: 14,847,044\n",
      "Trainable params: 132,356\n",
      "Non-trainable params: 14,714,688\n",
      "_________________________________________________________________\n"
     ]
    }
   ],
   "source": [
    "conv_base.trainable = False\n",
    "model.summary()"
   ]
  },
  {
   "cell_type": "code",
   "execution_count": 68,
   "metadata": {},
   "outputs": [
    {
     "name": "stdout",
     "output_type": "stream",
     "text": [
      "Found 1675 images belonging to 4 classes.\n",
      "Found 835 images belonging to 4 classes.\n",
      "Epoch 1/20\n",
      "100/100 [==============================] - 76s 762ms/step - loss: 1.2597 - acc: 0.4468 - val_loss: 0.9591 - val_acc: 0.7186\n",
      "Epoch 2/20\n",
      "100/100 [==============================] - 79s 789ms/step - loss: 1.0108 - acc: 0.6368 - val_loss: 0.7701 - val_acc: 0.7668\n",
      "Epoch 3/20\n",
      "100/100 [==============================] - 77s 767ms/step - loss: 0.8544 - acc: 0.7077 - val_loss: 0.7027 - val_acc: 0.7276\n",
      "Epoch 4/20\n",
      "100/100 [==============================] - 80s 799ms/step - loss: 0.8040 - acc: 0.7075 - val_loss: 0.6018 - val_acc: 0.7990\n",
      "Epoch 5/20\n",
      "100/100 [==============================] - 94s 937ms/step - loss: 0.7253 - acc: 0.7347 - val_loss: 0.5895 - val_acc: 0.7809\n",
      "Epoch 6/20\n",
      "100/100 [==============================] - 102s 1s/step - loss: 0.6920 - acc: 0.7408 - val_loss: 0.5490 - val_acc: 0.8131\n",
      "Epoch 7/20\n",
      "100/100 [==============================] - 103s 1s/step - loss: 0.6534 - acc: 0.7543 - val_loss: 0.5389 - val_acc: 0.7980\n",
      "Epoch 8/20\n",
      "100/100 [==============================] - 91s 914ms/step - loss: 0.6523 - acc: 0.7518 - val_loss: 0.5437 - val_acc: 0.7980\n",
      "Epoch 9/20\n",
      "100/100 [==============================] - 87s 870ms/step - loss: 0.6290 - acc: 0.7628 - val_loss: 0.5217 - val_acc: 0.8191\n",
      "Epoch 10/20\n",
      "100/100 [==============================] - 87s 871ms/step - loss: 0.6235 - acc: 0.7583 - val_loss: 0.5308 - val_acc: 0.7899\n",
      "Epoch 11/20\n",
      "100/100 [==============================] - 91s 905ms/step - loss: 0.5817 - acc: 0.7867 - val_loss: 0.5319 - val_acc: 0.7909\n",
      "Epoch 12/20\n",
      "100/100 [==============================] - 86s 860ms/step - loss: 0.5780 - acc: 0.7765 - val_loss: 0.4876 - val_acc: 0.8070\n",
      "Epoch 13/20\n",
      "100/100 [==============================] - 107s 1s/step - loss: 0.5874 - acc: 0.7705 - val_loss: 0.5376 - val_acc: 0.7829\n",
      "Epoch 14/20\n",
      "100/100 [==============================] - 107s 1s/step - loss: 0.5480 - acc: 0.7890 - val_loss: 0.5355 - val_acc: 0.7879\n",
      "Epoch 15/20\n",
      "100/100 [==============================] - 108s 1s/step - loss: 0.5508 - acc: 0.7872 - val_loss: 0.5504 - val_acc: 0.7839\n",
      "Epoch 16/20\n",
      "100/100 [==============================] - 99s 989ms/step - loss: 0.5337 - acc: 0.7885 - val_loss: 0.4767 - val_acc: 0.8162\n",
      "Epoch 17/20\n",
      "100/100 [==============================] - 111s 1s/step - loss: 0.5447 - acc: 0.7758 - val_loss: 0.5082 - val_acc: 0.7960\n",
      "Epoch 18/20\n",
      "100/100 [==============================] - 108s 1s/step - loss: 0.5335 - acc: 0.7902 - val_loss: 0.5518 - val_acc: 0.7749\n",
      "Epoch 19/20\n",
      "100/100 [==============================] - 108s 1s/step - loss: 0.5221 - acc: 0.7970 - val_loss: 0.5145 - val_acc: 0.7869\n",
      "Epoch 20/20\n",
      "100/100 [==============================] - 98s 980ms/step - loss: 0.5238 - acc: 0.7880 - val_loss: 0.5322 - val_acc: 0.7899\n"
     ]
    }
   ],
   "source": [
    "from keras.preprocessing.image import ImageDataGenerator\n",
    "from keras import optimizers\n",
    "train_datagen = ImageDataGenerator(\n",
    "      rescale=1./255,\n",
    "      rotation_range=40,\n",
    "      width_shift_range=0.2,\n",
    "      height_shift_range=0.2,\n",
    "      shear_range=0.2,\n",
    "      zoom_range=0.2,\n",
    "      horizontal_flip=True,\n",
    "      fill_mode='nearest')\n",
    "test_datagen = ImageDataGenerator(rescale=1./255)\n",
    "train_generator = train_datagen.flow_from_directory(\n",
    "    train_dir,\n",
    "    target_size=(48,48),\n",
    "    batch_size=20,\n",
    "    class_mode='categorical')\n",
    "validation_generator = test_datagen.flow_from_directory(\n",
    "        val_dir,\n",
    "        target_size=(48, 48),\n",
    "        batch_size=20,\n",
    "        class_mode='categorical')\n",
    "model.compile(loss='categorical_crossentropy',\n",
    "              optimizer=optimizers.RMSprop(lr=1e-4),\n",
    "              metrics=['acc'])\n",
    "history = model.fit_generator(\n",
    "      train_generator,\n",
    "      steps_per_epoch=100,\n",
    "      epochs=20,\n",
    "      validation_data=validation_generator,\n",
    "      validation_steps=50)"
   ]
  },
  {
   "cell_type": "code",
   "execution_count": 69,
   "metadata": {},
   "outputs": [
    {
     "data": {
      "image/png": "[encoded data removed]",
      "text/plain": [
       "<Figure size 432x288 with 1 Axes>"
      ]
     },
     "metadata": {},
     "output_type": "display_data"
    },
    {
     "data": {
      "image/png": "[encoded data removed]",
      "text/plain": [
       "<Figure size 432x288 with 1 Axes>"
      ]
     },
     "metadata": {},
     "output_type": "display_data"
    }
   ],
   "source": [
    "import matplotlib.pyplot as plt\n",
    "acc = history.history['acc']\n",
    "val_acc = history.history['val_acc']\n",
    "loss = history.history['loss']\n",
    "val_loss = history.history['val_loss']\n",
    "epochs = range(1, len(acc) + 1)\n",
    "plt.plot(epochs, acc, 'bo', label='Training acc')\n",
    "plt.plot(epochs, val_acc, 'b', label='Validation acc')\n",
    "plt.title('Training and validation accuracy')\n",
    "plt.legend()\n",
    "plt.figure()\n",
    "plt.plot(epochs, loss, 'bo', label='Training loss')\n",
    "plt.plot(epochs, val_loss, 'b', label='Validation loss')\n",
    "plt.title('Training and validation loss')\n",
    "plt.legend()\n",
    "plt.show()"
   ]
  },
  {
   "cell_type": "markdown",
   "metadata": {},
   "source": [
    "## From the plot, I noticed that the training loss curve and the validation loss curve converge to almost the same value as the number of epoches increases, implying that the model fits quite well."
   ]
  }
 ],
 "metadata": {
  "kernelspec": {
   "display_name": "Python 3",
   "language": "python",
   "name": "python3"
  },
  "language_info": {
   "codemirror_mode": {
    "name": "ipython",
    "version": 3
   },
   "file_extension": ".py",
   "mimetype": "text/x-python",
   "name": "python",
   "nbconvert_exporter": "python",
   "pygments_lexer": "ipython3",
   "version": "3.6.8"
  }
 },
 "nbformat": 4,
 "nbformat_minor": 2
}
